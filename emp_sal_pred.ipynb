# 1. Import Libraries
import pandas as pd
import numpy as np
import matplotlib.pyplot as plt
import seaborn as sns

from sklearn.model_selection import train_test_split
from sklearn.preprocessing import LabelEncoder, StandardScaler
from sklearn.linear_model import LogisticRegression
from sklearn.ensemble import RandomForestClassifier
from sklearn.metrics import accuracy_score, classification_report, confusion_matrix

import warnings
warnings.filterwarnings('ignore')

# 2. Load Dataset
df = pd.read_csv('adult_3.csv')

# Preview dataset
print("\nDataset Preview:")
print(df.head())

# 2.5 Check for Null Values
print("\nChecking for Null Values:")
print(df.isnull().sum())

# Optionally handle nulls
df = df.dropna()

# 3. Encode Categorical Variables
cat_cols = df.select_dtypes(include='object').columns
encoders = {}

for col in cat_cols:
    le = LabelEncoder()
    df[col] = le.fit_transform(df[col])
    encoders[col] = le

# 4. Correlation Heatmap
plt.figure(figsize=(10,6))
sns.heatmap(df.corr(), annot=True, cmap='coolwarm')
plt.title("Correlation Heatmap")
plt.show()

# 5. Prepare Features and Target
# Automatically detect last column as target if not known
target_col = df.columns[-1]
X = df.drop(columns=[target_col])
y = df[target_col]

scaler = StandardScaler()
X_scaled = scaler.fit_transform(X)

X_train, X_test, y_train, y_test = train_test_split(X_scaled, y, test_size=0.2, random_state=42)

# 6. Train Classification Models
logreg = LogisticRegression()
logreg.fit(X_train, y_train)
y_pred_log = logreg.predict(X_test)

rf = RandomForestClassifier(n_estimators=100, random_state=42)
rf.fit(X_train, y_train)
y_pred_rf = rf.predict(X_test)

# 7. Evaluation
print("\nLogistic Regression Accuracy:", accuracy_score(y_test, y_pred_log))
print("Random Forest Accuracy:", accuracy_score(y_test, y_pred_rf))

print("\nRandom Forest Classification Report:")
print(classification_report(y_test, y_pred_rf))

# 8. Confusion Matrix
plt.figure(figsize=(6,4))
sns.heatmap(confusion_matrix(y_test, y_pred_rf), annot=True, fmt='d', cmap='Blues')
plt.title("Confusion Matrix (Random Forest)")
plt.xlabel("Predicted")
plt.ylabel("Actual")
plt.show()

# 9. Feature Importance
importances = rf.feature_importances_
features = X.columns

plt.figure(figsize=(10,5))
sns.barplot(x=features, y=importances)
plt.title("Feature Importance (Random Forest)")
plt.xticks(rotation=45)
plt.tight_layout()
plt.show()

#10.Boxplot for age
print("Boxplot for age before:")
plt.boxplot(df['age'])
plt.show()
df=df[(df['age']<=75)&(df['age']>=17)]
print("Boxplot for age after condition:")
plt.boxplot(df['age'])
plt.show()

# 11. Predict for New Input
def predict_custom_classification(input_dict):
    try:
        for col in input_dict:
            if col in encoders:
                input_dict[col] = encoders[col].transform([input_dict[col]])[0]
        df_input = pd.DataFrame([input_dict])
        df_input_scaled = scaler.transform(df_input)
        pred = rf.predict(df_input_scaled)[0]
        return pred
    except Exception as e:
        return f"Prediction error: {e}"

# 12. Example Prediction
print("\nPrediction for New Sample:")
example_input = {
    col: df[col].iloc[0] if col not in encoders else encoders[col].inverse_transform([df[col].iloc[0]])[0]
    for col in df.columns if col != target_col
}
print("Sample Input:", example_input)
predicted = predict_custom_classification(example_input)

# Decode output if needed
if target_col in encoders:
    predicted_label = encoders[target_col].inverse_transform([predicted])[0]
    print("Predicted Class Label:", predicted_label)
else:
    print("Predicted Class (Encoded):", predicted)
